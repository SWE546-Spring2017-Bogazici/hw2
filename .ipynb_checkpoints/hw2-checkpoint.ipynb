{
 "cells": [
  {
   "cell_type": "code",
   "execution_count": 181,
   "metadata": {
    "collapsed": false
   },
   "outputs": [],
   "source": [
    "import numpy as np\n",
    "import pandas as pd\n",
    "\n",
    "import matplotlib.pylab as plt\n",
    "\n",
    "\n",
    "df_iris = pd.read_csv(u'data/iris.txt',sep=' ')\n",
    "#df_iris"
   ]
  },
  {
   "cell_type": "code",
   "execution_count": 104,
   "metadata": {
    "collapsed": false
   },
   "outputs": [],
   "source": [
    "import math \n",
    "def euclideanDistance(instance1, instance2):\n",
    "    distance = 0\n",
    "    for i in range(4):\n",
    "        distance += (instance1.iat[0,i] - instance2.iat[0,i])**2 \n",
    "    return math.sqrt(distance)"
   ]
  },
  {
   "cell_type": "code",
   "execution_count": 215,
   "metadata": {
    "collapsed": false
   },
   "outputs": [],
   "source": [
    "import operator\n",
    "def predict(newInstance, k, selfIndex):\n",
    "    distance = 0\n",
    "    distancesToElements = list()\n",
    "    for x in range(len(df_iris)):\n",
    "        if (x != selfIndex):\n",
    "            distancesToElements.append({'index' : x, \n",
    "                                        'distance' : euclideanDistance(newInstance, df_iris.iloc[[x]]), \n",
    "                                        'class' : df_iris.iloc[[x]].iat[0,4]})\n",
    "    distancesToElements = sorted(distancesToElements, key=operator.itemgetter('distance'))\n",
    "    kNearestElements = distancesToElements[:k]\n",
    "    \n",
    "    differentClassCount = 3\n",
    "    nearestElementCountByClassType = list()\n",
    "    for x in range(differentClassCount):\n",
    "        classNo = x + 1\n",
    "        nearestElementCountByClassType.append({'class' : classNo,\n",
    "                                                'count' : sum(1 for element in kNearestElements if element['class'] == classNo)\n",
    "                                              })\n",
    "    #print(nearestElementCountByClassType)    \n",
    "    return max(nearestElementCountByClassType, key=lambda x:x['count'])['class']"
   ]
  },
  {
   "cell_type": "code",
   "execution_count": 230,
   "metadata": {
    "collapsed": false
   },
   "outputs": [],
   "source": [
    "def findBestK(maxK, showAllAccuracyRates):\n",
    "    accuracyList = list()\n",
    "    elementCount = len(df_iris)\n",
    "    for k in range(1, maxK):\n",
    "        errorCount = 0\n",
    "        for elementIndex in range(elementCount):\n",
    "            predictedClass = predict(df_iris.iloc[[elementIndex]],k, elementIndex)\n",
    "            actualClass = df_iris.iloc[[elementIndex]].iat[0,4]\n",
    "            if (predictedClass != actualClass):\n",
    "                errorCount += 1\n",
    "        accuracy = (elementCount - errorCount) / elementCount * 100\n",
    "        accuracyList.append({'k' : k, \n",
    "                             'accuracy' : accuracy})\n",
    "    if(showAllAccuracyRates):\n",
    "        print(accuracyList)\n",
    "    return max(accuracyList, key=lambda x:x['accuracy'])['k']        "
   ]
  },
  {
   "cell_type": "code",
   "execution_count": 232,
   "metadata": {
    "collapsed": false
   },
   "outputs": [
    {
     "name": "stdout",
     "output_type": "stream",
     "text": [
      "[{'k': 1, 'accuracy': 96.0}, {'k': 2, 'accuracy': 94.66666666666667}, {'k': 3, 'accuracy': 96.0}, {'k': 4, 'accuracy': 96.0}, {'k': 5, 'accuracy': 96.66666666666667}, {'k': 6, 'accuracy': 96.0}, {'k': 7, 'accuracy': 96.66666666666667}, {'k': 8, 'accuracy': 96.66666666666667}, {'k': 9, 'accuracy': 96.66666666666667}, {'k': 10, 'accuracy': 96.66666666666667}, {'k': 11, 'accuracy': 97.33333333333334}, {'k': 12, 'accuracy': 96.0}, {'k': 13, 'accuracy': 96.66666666666667}, {'k': 14, 'accuracy': 97.33333333333334}, {'k': 15, 'accuracy': 97.33333333333334}, {'k': 16, 'accuracy': 96.66666666666667}, {'k': 17, 'accuracy': 97.33333333333334}, {'k': 18, 'accuracy': 97.33333333333334}, {'k': 19, 'accuracy': 98.0}]\n"
     ]
    },
    {
     "data": {
      "text/plain": [
       "19"
      ]
     },
     "execution_count": 232,
     "metadata": {},
     "output_type": "execute_result"
    }
   ],
   "source": [
    "findBestK(20, True)"
   ]
  },
  {
   "cell_type": "code",
   "execution_count": null,
   "metadata": {
    "collapsed": true
   },
   "outputs": [],
   "source": []
  }
 ],
 "metadata": {
  "kernelspec": {
   "display_name": "Python 3",
   "language": "python",
   "name": "python3"
  },
  "language_info": {
   "codemirror_mode": {
    "name": "ipython",
    "version": 3
   },
   "file_extension": ".py",
   "mimetype": "text/x-python",
   "name": "python",
   "nbconvert_exporter": "python",
   "pygments_lexer": "ipython3",
   "version": "3.6.0"
  }
 },
 "nbformat": 4,
 "nbformat_minor": 2
}
